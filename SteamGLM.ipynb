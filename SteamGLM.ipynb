{
 "cells": [
  {
   "cell_type": "code",
   "execution_count": 72,
   "metadata": {},
   "outputs": [],
   "source": [
    "import pandas as pd \n",
    "import numpy as np \n",
    "import matplotlib.pyplot as plt \n",
    "import seaborn as sns \n",
    "from sklearn.model_selection import train_test_split \n",
    "from sklearn.linear_model import LinearRegression\n",
    "from sklearn.linear_model import LogisticRegression\n",
    "from sklearn.linear_model import Ridge  \n",
    "from sklearn.metrics import mean_squared_error, mean_absolute_error \n",
    "from sklearn import preprocessing \n",
    "\n",
    "#Import Cleaned Dataset\n",
    "data = pd.read_csv(\"clean_steam_data.csv\",dtype={'Name': 'str'}, low_memory=False)\n",
    "names = data['Name'].tolist()\n",
    "data.drop(\"Name\", axis=1, inplace=True)\n",
    "\n",
    "y = data[\"Recommendations\"].copy()\n",
    "data.drop(\"Recommendations\",axis=1,inplace=True)\n",
    "x = data.copy()\n",
    "\n",
    "# creating train and test sets \n",
    "x_train, x_test, y_train, y_test = train_test_split(x, y, test_size=0.3, random_state=487) \n"
   ]
  },
  {
   "cell_type": "code",
   "execution_count": 73,
   "metadata": {},
   "outputs": [
    {
     "name": "stdout",
     "output_type": "stream",
     "text": [
      "mean_squared_error :  165302442.2307427\n",
      "mean_absolute_error :  429.94176498258213\n"
     ]
    }
   ],
   "source": [
    "#Make Multi-linear Regression Model\n",
    "model = LinearRegression()\n",
    "\n",
    "model.fit(x_train,y_train)\n",
    "\n",
    "predict = model.predict(x_test)\n",
    "\n",
    "# model evaluation \n",
    "print( 'mean_squared_error : ', mean_squared_error(y_test, predict)) \n",
    "print( 'mean_absolute_error : ', mean_absolute_error(y_test, predict)) "
   ]
  },
  {
   "cell_type": "code",
   "execution_count": 74,
   "metadata": {},
   "outputs": [
    {
     "name": "stdout",
     "output_type": "stream",
     "text": [
      "mean_squared_error :  165302481.93946332\n",
      "mean_absolute_error :  429.9383272432581\n"
     ]
    }
   ],
   "source": [
    "#Ridge Regression\n",
    "model2 = Ridge()\n",
    "\n",
    "model2.fit(x_train,y_train)\n",
    "\n",
    "predict2 = model2.predict(x_test)\n",
    "\n",
    "# model evaluation \n",
    "print( 'mean_squared_error : ', mean_squared_error(y_test, predict2)) \n",
    "print( 'mean_absolute_error : ', mean_absolute_error(y_test, predict2)) "
   ]
  },
  {
   "cell_type": "code",
   "execution_count": 76,
   "metadata": {},
   "outputs": [
    {
     "name": "stderr",
     "output_type": "stream",
     "text": [
      "C:\\Users\\musil\\AppData\\Local\\Packages\\PythonSoftwareFoundation.Python.3.10_qbz5n2kfra8p0\\LocalCache\\local-packages\\Python310\\site-packages\\sklearn\\linear_model\\_logistic.py:469: ConvergenceWarning: lbfgs failed to converge (status=1):\n",
      "STOP: TOTAL NO. of ITERATIONS REACHED LIMIT.\n",
      "\n",
      "Increase the number of iterations (max_iter) or scale the data as shown in:\n",
      "    https://scikit-learn.org/stable/modules/preprocessing.html\n",
      "Please also refer to the documentation for alternative solver options:\n",
      "    https://scikit-learn.org/stable/modules/linear_model.html#logistic-regression\n",
      "  n_iter_i = _check_optimize_result(\n"
     ]
    },
    {
     "name": "stdout",
     "output_type": "stream",
     "text": [
      "mean_squared_error :  42995846124.6832\n",
      "mean_absolute_error :  31280.97908343126\n"
     ]
    },
    {
     "ename": "",
     "evalue": "",
     "output_type": "error",
     "traceback": [
      "\u001b[1;31mThe Kernel crashed while executing code in the current cell or a previous cell. \n",
      "\u001b[1;31mPlease review the code in the cell(s) to identify a possible cause of the failure. \n",
      "\u001b[1;31mClick <a href='https://aka.ms/vscodeJupyterKernelCrash'>here</a> for more info. \n",
      "\u001b[1;31mView Jupyter <a href='command:jupyter.viewOutput'>log</a> for further details."
     ]
    }
   ],
   "source": [
    "#Logit Regression\n",
    "model3 = LogisticRegression()\n",
    "\n",
    "model3.fit(x_train,y_train)\n",
    "\n",
    "predict3 = model3.predict(x_test)\n",
    "\n",
    "# model evaluation \n",
    "print( 'mean_squared_error : ', mean_squared_error(y_test, predict3)) \n",
    "print( 'mean_absolute_error : ', mean_absolute_error(y_test, predict3)) "
   ]
  }
 ],
 "metadata": {
  "kernelspec": {
   "display_name": "Python 3",
   "language": "python",
   "name": "python3"
  },
  "language_info": {
   "codemirror_mode": {
    "name": "ipython",
    "version": 3
   },
   "file_extension": ".py",
   "mimetype": "text/x-python",
   "name": "python",
   "nbconvert_exporter": "python",
   "pygments_lexer": "ipython3",
   "version": "3.10.11"
  }
 },
 "nbformat": 4,
 "nbformat_minor": 2
}
